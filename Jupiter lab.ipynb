{
 "cells": [
  {
   "cell_type": "code",
   "execution_count": 24,
   "metadata": {},
   "outputs": [],
   "source": [
    "import numpy as np\n",
    "import matplotlib.pyplot as plt\n",
    "from sklearn.preprocessing  import PolynomialFeatures\n",
    "x = np.arange(0, 2*np.pi, 0.1)\n",
    "y_perfecta = np.sin(x)\n",
    "x_muestra = np.arange(0, 2*np.pi, 0.6)\n",
    "y_imperfecta = np.sin(x_muestra)\n",
    "y_medida = np.sin(x_muestra) + (np.random.rand(x_muestra.size) - 0.5)*3\n",
    "\n"
   ]
  },
  {
   "cell_type": "code",
   "execution_count": 25,
   "metadata": {},
   "outputs": [],
   "source": [
    "#Mi modelo empiritco\n",
    "y_mi_modelo = 0+0.2*x_muestra-0.2 + x_muestra*0.2\n",
    "#print(x_muestra)\n",
    "#print(y_mi_modelo)"
   ]
  },
  {
   "cell_type": "code",
   "execution_count": 30,
   "metadata": {},
   "outputs": [
    {
     "name": "stdout",
     "output_type": "stream",
     "text": [
      "[[ 1.    0.    0.  ]\n",
      " [ 1.    0.6   0.36]\n",
      " [ 1.    1.2   1.44]\n",
      " [ 1.    1.8   3.24]\n",
      " [ 1.    2.4   5.76]\n",
      " [ 1.    3.    9.  ]\n",
      " [ 1.    3.6  12.96]\n",
      " [ 1.    4.2  17.64]\n",
      " [ 1.    4.8  23.04]\n",
      " [ 1.    5.4  29.16]\n",
      " [ 1.    6.   36.  ]]\n"
     ]
    }
   ],
   "source": [
    "poly = PolynomialFeatures(2)\n",
    "x_new = poly.fit_transform(x_muestra.reshape(-1,1))\n",
    "print(x_new)"
   ]
  },
  {
   "cell_type": "code",
   "execution_count": null,
   "metadata": {},
   "outputs": [],
   "source": []
  },
  {
   "cell_type": "code",
   "execution_count": 22,
   "metadata": {},
   "outputs": [
    {
     "data": {
      "image/png": "[encoded data removed]",
      "text/plain": [
       "<Figure size 432x288 with 1 Axes>"
      ]
     },
     "metadata": {
      "needs_background": "light"
     },
     "output_type": "display_data"
    }
   ],
   "source": [
    "#y_imperfecta = np.sin(x_muestra) + np.random.rand(x_muestra.size)\n",
    "#plt.plot(x, y_perfecta, 'g')\n",
    "plt.plot(x_muestra, y_medida, '*g')\n",
    "plt.plot(x_muestra, y_mi_modelo, '*b')\n",
    "plt.show()"
   ]
  }
 ],
 "metadata": {
  "kernelspec": {
   "display_name": "Python 3",
   "language": "python",
   "name": "python3"
  },
  "language_info": {
   "codemirror_mode": {
    "name": "ipython",
    "version": 3
   },
   "file_extension": ".py",
   "mimetype": "text/x-python",
   "name": "python",
   "nbconvert_exporter": "python",
   "pygments_lexer": "ipython3",
   "version": "3.7.4"
  }
 },
 "nbformat": 4,
 "nbformat_minor": 2
}
