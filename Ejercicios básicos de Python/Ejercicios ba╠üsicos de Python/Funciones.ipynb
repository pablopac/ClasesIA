{
 "cells": [
  {
   "cell_type": "markdown",
   "metadata": {},
   "source": [
    "# Funciones"
   ]
  },
  {
   "cell_type": "markdown",
   "metadata": {},
   "source": [
    "La palabra reservada def se usa para definir funciones. Debe seguirle el nombre de la función y la lista de parámetros formales entre paréntesis. Las sentencias que forman el cuerpo de la función empiezan en la línea siguiente, y deben estar con sangría. (Ejercicios tomados de: http://entrenamiento-python-basico.readthedocs.io/es/latest/leccion5/funciones.html, http://docs.python.org.ar/tutorial/2/controlflow.html#definiendo-funciones)"
   ]
  },
  {
   "cell_type": "markdown",
   "metadata": {},
   "source": [
    "## Definiendo Funciones"
   ]
  },
  {
   "cell_type": "code",
   "execution_count": 1,
   "metadata": {},
   "outputs": [],
   "source": [
    "def iva():\n",
    "    ''' funcion basica de Python '''\n",
    "    iva = 19\n",
    "    costo = int(input('¿Cual es el monto a calcular?: '))\n",
    "    calculo = costo * iva / 100\n",
    "    print(calculo)"
   ]
  },
  {
   "cell_type": "code",
   "execution_count": 2,
   "metadata": {},
   "outputs": [
    {
     "name": "stdout",
     "output_type": "stream",
     "text": [
      "¿Cual es el monto a calcular?: 2000\n",
      "380.0\n"
     ]
    }
   ],
   "source": [
    "# Ahora llamemos a la función\n",
    "iva()"
   ]
  },
  {
   "cell_type": "code",
   "execution_count": 5,
   "metadata": {},
   "outputs": [
    {
     "name": "stdout",
     "output_type": "stream",
     "text": [
      "¿Cual es el monto a calcular?: 123456\n",
      "14814.72\n",
      "El calculo de IVA es : None\n",
      "50\n",
      "La suma de dos numeros es: None\n"
     ]
    },
    {
     "ename": "TypeError",
     "evalue": "iva() takes 0 positional arguments but 1 was given",
     "output_type": "error",
     "traceback": [
      "\u001b[1;31m---------------------------------------------------------------------------\u001b[0m",
      "\u001b[1;31mTypeError\u001b[0m                                 Traceback (most recent call last)",
      "\u001b[1;32m<ipython-input-5-c1ed623ac6fa>\u001b[0m in \u001b[0;36m<module>\u001b[1;34m\u001b[0m\n\u001b[0;32m     33\u001b[0m \u001b[0mprint\u001b[0m\u001b[1;33m(\u001b[0m\u001b[1;34m\"La suma de dos numeros es:\"\u001b[0m\u001b[1;33m,\u001b[0m \u001b[0msuma\u001b[0m\u001b[1;33m(\u001b[0m\u001b[1;36m13\u001b[0m\u001b[1;33m,\u001b[0m\u001b[1;36m37\u001b[0m\u001b[1;33m)\u001b[0m\u001b[1;33m)\u001b[0m\u001b[1;33m\u001b[0m\u001b[1;33m\u001b[0m\u001b[0m\n\u001b[0;32m     34\u001b[0m \u001b[1;33m\u001b[0m\u001b[0m\n\u001b[1;32m---> 35\u001b[1;33m \u001b[0mprint\u001b[0m\u001b[1;33m(\u001b[0m\u001b[1;34m\"El calculo de IVA es :\"\u001b[0m\u001b[1;33m,\u001b[0m \u001b[0miva\u001b[0m\u001b[1;33m(\u001b[0m\u001b[1;36m10\u001b[0m\u001b[1;33m)\u001b[0m\u001b[1;33m)\u001b[0m\u001b[1;33m\u001b[0m\u001b[1;33m\u001b[0m\u001b[0m\n\u001b[0m\u001b[0;32m     36\u001b[0m \u001b[1;33m\u001b[0m\u001b[0m\n\u001b[0;32m     37\u001b[0m \u001b[0mprint\u001b[0m\u001b[1;33m(\u001b[0m\u001b[1;34m\"La sucesión Fibonacci hasta 10 es:\"\u001b[0m\u001b[1;33m,\u001b[0m \u001b[0mimprime_fibonacci\u001b[0m\u001b[1;33m(\u001b[0m\u001b[1;36m10\u001b[0m\u001b[1;33m)\u001b[0m\u001b[1;33m)\u001b[0m\u001b[1;33m\u001b[0m\u001b[1;33m\u001b[0m\u001b[0m\n",
      "\u001b[1;31mTypeError\u001b[0m: iva() takes 0 positional arguments but 1 was given"
     ]
    }
   ],
   "source": [
    "\"\"\"\n",
    "    Funciones en Python\n",
    "\"\"\"\n",
    "\n",
    "def iva():\n",
    "    ''' funcion basica de Python '''\n",
    "    iva = 12\n",
    "    costo = int(input('¿Cual es el monto a calcular?: '))\n",
    "    calculo = costo * iva / 100\n",
    "    print(calculo)\n",
    "    \n",
    "def suma(numero1,numero2):\n",
    "    print(numero1 + numero2)\n",
    "\n",
    "def imprime_fibonacci(n):\n",
    "    ''' escribe la sucesión Fibonacci hasta n '''\n",
    "    a, b = 0, 1\n",
    "    while b < n:\n",
    "        print(b),\n",
    "        a, b = b, a + b\n",
    "\n",
    "def devuelve_fibonacci(n): \n",
    "    ''' devuelve la sucesión Fibonacci hasta n '''\n",
    "    resultado = []\n",
    "    a, b = 0, 1\n",
    "    while b < n:\n",
    "        resultado.append(b)\n",
    "        a, b = b, a + b\n",
    "    return resultado\n",
    "\n",
    "print(\"El calculo de IVA es :\", iva())\n",
    "\n",
    "print(\"La suma de dos numeros es:\", suma(13,37))\n",
    "\n",
    "print(\"El calculo de IVA es :\", iva(10))\n",
    "\n",
    "print(\"La sucesión Fibonacci hasta 10 es:\", imprime_fibonacci(10))\n",
    "\n",
    "print(\"La sucesión Fibonacci hasta 50 es:\", devuelve_fibonacci(50))"
   ]
  },
  {
   "cell_type": "code",
   "execution_count": 6,
   "metadata": {},
   "outputs": [
    {
     "name": "stdout",
     "output_type": "stream",
     "text": [
      "<function imprime_fibonacci at 0x00000179ABADE4C8>\n"
     ]
    }
   ],
   "source": [
    "# Miremos la función de fibonacci\n",
    "print(imprime_fibonacci)"
   ]
  },
  {
   "cell_type": "code",
   "execution_count": null,
   "metadata": {},
   "outputs": [],
   "source": [
    "fib = imprime_fibonacci\n",
    "print(fib)"
   ]
  },
  {
   "cell_type": "code",
   "execution_count": null,
   "metadata": {},
   "outputs": [],
   "source": [
    "fib(50)"
   ]
  },
  {
   "cell_type": "markdown",
   "metadata": {},
   "source": [
    "## Argumentos con valores por omisión"
   ]
  },
  {
   "cell_type": "code",
   "execution_count": null,
   "metadata": {},
   "outputs": [],
   "source": [
    "def pedir_confirmacion(mensaje, reintentos=4, queja='Si o no, por favor!'):\n",
    "    while True:\n",
    "        ok = input(mensaje)\n",
    "        if ok in ('s', 'S', 'si', 'Si', 'SI'):\n",
    "            return True\n",
    "        if ok in ('n', 'no', 'No', 'NO'):\n",
    "            return False\n",
    "        reintentos = reintentos - 1\n",
    "        if reintentos < 0:\n",
    "            raise IOError('usuario duro')\n",
    "        print(queja)"
   ]
  },
  {
   "cell_type": "code",
   "execution_count": null,
   "metadata": {},
   "outputs": [],
   "source": [
    "pedir_confirmacion()"
   ]
  },
  {
   "cell_type": "code",
   "execution_count": null,
   "metadata": {},
   "outputs": [],
   "source": [
    "pedir_confirmacion(\"¿Vamos a estudiar más duro?\")"
   ]
  },
  {
   "cell_type": "markdown",
   "metadata": {},
   "source": [
    "Esta función puede ser llamada de distintas maneras:\n",
    "\n",
    "pasando sólo el argumento obligatorio: pedir_confirmacion('¿Realmente queres salir?')\n",
    "pasando uno de los argumentos opcionales: pedir_confirmacion('¿Sobreescribir archivo?', 2)\n",
    "o pasando todos los argumentos: pedir_confirmacion('¿Sobreescribir archivo?', 2, \"Vamos, solo si o no!)"
   ]
  },
  {
   "cell_type": "markdown",
   "metadata": {},
   "source": [
    "## Palabras claves como argumentos"
   ]
  },
  {
   "cell_type": "markdown",
   "metadata": {},
   "source": [
    "Las funciones también puede ser llamadas nombrando a los argumentos de la forma keyword = value. Por ejemplo, la siguiente función:"
   ]
  },
  {
   "cell_type": "code",
   "execution_count": null,
   "metadata": {},
   "outputs": [],
   "source": [
    "def loro(tension, estado='muerto', accion='explotar', tipo='Azul Nordico'):\n",
    "    print (\"-- Este loro no va a\", accion,)\n",
    "    print (\"si le aplicas\", tension, \"voltios.\")\n",
    "    print (\"-- Gran plumaje tiene el\", tipo)\n",
    "    print (\"-- Esta\", estado, \"!\")"
   ]
  },
  {
   "cell_type": "markdown",
   "metadata": {},
   "source": [
    "...puede ser llamada de cualquiera de las siguientes formas:"
   ]
  },
  {
   "cell_type": "code",
   "execution_count": null,
   "metadata": {},
   "outputs": [],
   "source": [
    "loro(1000)\n",
    "print(\"\")\n",
    "loro(accion='EXPLOTARRRRR', tension=1000000)\n",
    "print(\"\")\n",
    "loro('mil', estado='boca arriba')\n",
    "print(\"\")\n",
    "loro('un millon', 'rostizado', 'saltar')"
   ]
  },
  {
   "cell_type": "markdown",
   "metadata": {},
   "source": [
    "...pero estas otras llamadas serían todas inválidas:"
   ]
  },
  {
   "cell_type": "code",
   "execution_count": null,
   "metadata": {},
   "outputs": [],
   "source": [
    "loro()                      # falta argumento obligatorio"
   ]
  },
  {
   "cell_type": "code",
   "execution_count": null,
   "metadata": {},
   "outputs": [],
   "source": [
    "loro(tension=5.0, 'muerto') # argumento nombrado seguido de uno posicional"
   ]
  },
  {
   "cell_type": "code",
   "execution_count": null,
   "metadata": {},
   "outputs": [],
   "source": [
    "loro(110, tension=220)      # valor duplicado para argumento"
   ]
  },
  {
   "cell_type": "code",
   "execution_count": null,
   "metadata": {},
   "outputs": [],
   "source": [
    "loro(actor='Juan Garau')    # palabra clave desconocida"
   ]
  },
  {
   "cell_type": "code",
   "execution_count": null,
   "metadata": {},
   "outputs": [],
   "source": []
  }
 ],
 "metadata": {
  "kernelspec": {
   "display_name": "Python 3",
   "language": "python",
   "name": "python3"
  },
  "language_info": {
   "codemirror_mode": {
    "name": "ipython",
    "version": 3
   },
   "file_extension": ".py",
   "mimetype": "text/x-python",
   "name": "python",
   "nbconvert_exporter": "python",
   "pygments_lexer": "ipython3",
   "version": "3.7.4"
  }
 },
 "nbformat": 4,
 "nbformat_minor": 2
}
