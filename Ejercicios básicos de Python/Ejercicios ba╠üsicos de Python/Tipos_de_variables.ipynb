{
 "cells": [
  {
   "cell_type": "markdown",
   "metadata": {},
   "source": [
    "# Tipos de datos básicos y variables Python"
   ]
  },
  {
   "cell_type": "markdown",
   "metadata": {},
   "source": [
    "En Python tenemos como tipos de datos simples números: enteros, de coma flotante y complejos, como pueden ser 3, 15.57 o 7 + 5j; cadenas de texto, como “Hola Mundo” y valores booleanos: True (cierto) y False (falso). (Ejercicios tomados de: http://entrenamiento-python-basico.readthedocs.io/es/latest/leccion3/)"
   ]
  },
  {
   "cell_type": "code",
   "execution_count": 2,
   "metadata": {},
   "outputs": [
    {
     "name": "stdout",
     "output_type": "stream",
     "text": [
      "<class 'str'>\n",
      "<class 'int'>\n"
     ]
    }
   ],
   "source": [
    "# Esto es una cadena\n",
    "c = \"Hola Mundo\"\n",
    "\n",
    "# Y esto es un entero\n",
    "e = 28\n",
    "\n",
    "# Podemos comprobarlo con la función type\n",
    "print(type(c))\n",
    "print(type(e))"
   ]
  },
  {
   "cell_type": "code",
   "execution_count": 3,
   "metadata": {},
   "outputs": [
    {
     "data": {
      "text/plain": [
       "28"
      ]
     },
     "execution_count": 3,
     "metadata": {},
     "output_type": "execute_result"
    }
   ],
   "source": [
    "e"
   ]
  },
  {
   "cell_type": "code",
   "execution_count": 6,
   "metadata": {},
   "outputs": [
    {
     "name": "stdout",
     "output_type": "stream",
     "text": [
      "True\n",
      "True\n"
     ]
    }
   ],
   "source": [
    "# O de forma booleana\n",
    "print(type(c) is str)\n",
    "print(type(e) is int)"
   ]
  },
  {
   "cell_type": "code",
   "execution_count": 9,
   "metadata": {},
   "outputs": [
    {
     "data": {
      "text/plain": [
       "' int e = 23; '"
      ]
     },
     "execution_count": 9,
     "metadata": {},
     "output_type": "execute_result"
    }
   ],
   "source": [
    "# Por ejemplo en Java, C, C++ o en C# era algo así\n",
    "\"\"\" String c = \"Hola Mundo\"; \"\"\"\n",
    "\"\"\" int e = 23; \"\"\""
   ]
  },
  {
   "cell_type": "markdown",
   "metadata": {},
   "source": [
    "## Tipos de números"
   ]
  },
  {
   "cell_type": "markdown",
   "metadata": {},
   "source": [
    "### Enteros"
   ]
  },
  {
   "cell_type": "code",
   "execution_count": 10,
   "metadata": {},
   "outputs": [
    {
     "data": {
      "text/plain": [
       "int"
      ]
     },
     "execution_count": 10,
     "metadata": {},
     "output_type": "execute_result"
    }
   ],
   "source": [
    "# type(entero) daría int\n",
    "entero = 23\n",
    "type(entero)"
   ]
  },
  {
   "cell_type": "code",
   "execution_count": 12,
   "metadata": {},
   "outputs": [
    {
     "data": {
      "text/plain": [
       "int"
      ]
     },
     "execution_count": 12,
     "metadata": {},
     "output_type": "execute_result"
    }
   ],
   "source": [
    "# type(entero_L) daría long (Pero solo para Python 2)\n",
    "entero_L = 23L\n",
    "type(entero_L)"
   ]
  },
  {
   "cell_type": "code",
   "execution_count": 13,
   "metadata": {},
   "outputs": [
    {
     "data": {
      "text/plain": [
       "int"
      ]
     },
     "execution_count": 13,
     "metadata": {},
     "output_type": "execute_result"
    }
   ],
   "source": [
    "# 027 octal = 23 en base 10\n",
    "entero_octal = 0o27\n",
    "type(entero_octal)"
   ]
  },
  {
   "cell_type": "code",
   "execution_count": 14,
   "metadata": {},
   "outputs": [
    {
     "name": "stdout",
     "output_type": "stream",
     "text": [
      "24\n",
      "0o30\n"
     ]
    }
   ],
   "source": [
    "# Vamos a sumar al octal\n",
    "entero_octal += 0o1\n",
    "print(entero_octal)\n",
    "print(oct(entero_octal))"
   ]
  },
  {
   "cell_type": "code",
   "execution_count": null,
   "metadata": {},
   "outputs": [],
   "source": [
    "# 0x17 hexadecimal = 23 en base 10\n",
    "entero_hex = 0x17\n",
    "type(entero_hex)"
   ]
  },
  {
   "cell_type": "code",
   "execution_count": null,
   "metadata": {},
   "outputs": [],
   "source": [
    "# Vamos a sumar al hex\n",
    "entero_hex += 0x1\n",
    "print(entero_hex)\n",
    "print(hex(entero_hex))"
   ]
  },
  {
   "cell_type": "markdown",
   "metadata": {},
   "source": [
    "### Reales"
   ]
  },
  {
   "cell_type": "code",
   "execution_count": 15,
   "metadata": {},
   "outputs": [
    {
     "name": "stdout",
     "output_type": "stream",
     "text": [
      "<class 'float'>\n"
     ]
    }
   ],
   "source": [
    "# Esto es un real\n",
    "real = 0.2703\n",
    "print(type(real))"
   ]
  },
  {
   "cell_type": "code",
   "execution_count": 16,
   "metadata": {},
   "outputs": [
    {
     "name": "stdout",
     "output_type": "stream",
     "text": [
      "True\n"
     ]
    }
   ],
   "source": [
    "# Verifiquemos con el type is float\n",
    "print(type(real) is float)"
   ]
  },
  {
   "cell_type": "code",
   "execution_count": 18,
   "metadata": {},
   "outputs": [
    {
     "name": "stdout",
     "output_type": "stream",
     "text": [
      "1.0\n",
      "<class 'float'>\n"
     ]
    }
   ],
   "source": [
    "# Ahora notación científica\n",
    "real_sci = 0.1e-30000+1\n",
    "print(real_sci)\n",
    "print(type(real_sci))"
   ]
  },
  {
   "cell_type": "markdown",
   "metadata": {},
   "source": [
    "### Complejos"
   ]
  },
  {
   "cell_type": "code",
   "execution_count": null,
   "metadata": {},
   "outputs": [],
   "source": [
    "# Esto es un número complejo\n",
    "complejo = 2.1 + 7.9j\n",
    "print(complejo + 1j)\n",
    "print(type(complejo))"
   ]
  },
  {
   "cell_type": "code",
   "execution_count": null,
   "metadata": {},
   "outputs": [],
   "source": [
    "# Verifiquemos con el type is complex\n",
    "print(type(complejo) is complex)"
   ]
  },
  {
   "cell_type": "code",
   "execution_count": null,
   "metadata": {},
   "outputs": [],
   "source": [
    "# ¿Y esto será igual?\n",
    "print( 2.1 + 7.8j == complex(2.1, 7.8) )"
   ]
  },
  {
   "cell_type": "markdown",
   "metadata": {},
   "source": [
    "## Tipo Cadenas"
   ]
  },
  {
   "cell_type": "code",
   "execution_count": null,
   "metadata": {},
   "outputs": [],
   "source": [
    "# Veamos unicode, raw y \"normal\"\n",
    "unicode = u\"äóè\"\n",
    "raw = r\"\\n\"\n",
    "normal = \"1\\n2\"\n",
    "print(unicode)\n",
    "print(raw)\n",
    "print(normal)"
   ]
  },
  {
   "cell_type": "code",
   "execution_count": 19,
   "metadata": {},
   "outputs": [
    {
     "name": "stdout",
     "output_type": "stream",
     "text": [
      "unodos\n",
      "unounouno\n"
     ]
    }
   ],
   "source": [
    "# Operemos sobre cadenas\n",
    "a = \"uno\"\n",
    "b = \"dos\"\n",
    "\n",
    "c = a + b # c es \"unodos\"\n",
    "print(c)\n",
    "c = a * 3 # c es \"unounouno\"\n",
    "print(c)"
   ]
  },
  {
   "cell_type": "code",
   "execution_count": null,
   "metadata": {},
   "outputs": [],
   "source": [
    "# Comillas simples\n",
    "cadenaa = 'Texto entre \"comillas\" simples'\n",
    "print(cadenaa)\n",
    "print(type(cadenaa))"
   ]
  },
  {
   "cell_type": "code",
   "execution_count": null,
   "metadata": {},
   "outputs": [],
   "source": [
    "# ¿Será un str con el type?\n",
    "print(type(cadenaa) is str)"
   ]
  },
  {
   "cell_type": "code",
   "execution_count": null,
   "metadata": {},
   "outputs": [],
   "source": [
    "# Comillas dobles\n",
    "cadenab = \"Texto entre 'comillas' dobles\"\n",
    "print(cadenab)\n",
    "print(type(cadenab))"
   ]
  },
  {
   "cell_type": "code",
   "execution_count": null,
   "metadata": {},
   "outputs": [],
   "source": [
    "# ¿Será un str con el type?\n",
    "print(type(cadenab) is str)"
   ]
  },
  {
   "cell_type": "code",
   "execution_count": null,
   "metadata": {},
   "outputs": [],
   "source": [
    "# Cadena con código escapes\n",
    "cadenaesc = 'Texto entre \\n\\tcomillas simples'\n",
    "print(cadenaesc)\n",
    "print(type(cadenaesc))"
   ]
  },
  {
   "cell_type": "code",
   "execution_count": 20,
   "metadata": {},
   "outputs": [
    {
     "name": "stdout",
     "output_type": "stream",
     "text": [
      "Texto linea 1\n",
      "linea 2\n",
      "linea 3\n",
      "linea 4\n",
      ".\n",
      ".\n",
      ".\n",
      ".\n",
      ".\n",
      "linea N\n",
      "\n",
      "<class 'str'>\n"
     ]
    }
   ],
   "source": [
    "# Cadena multilinea\n",
    "cadenac = \"\"\"Texto linea 1\n",
    "linea 2\n",
    "linea 3\n",
    "linea 4\n",
    ".\n",
    ".\n",
    ".\n",
    ".\n",
    ".\n",
    "linea N\n",
    "\"\"\"\n",
    "print(cadenac)\n",
    "print(type(cadenac))"
   ]
  },
  {
   "cell_type": "code",
   "execution_count": null,
   "metadata": {},
   "outputs": [],
   "source": [
    "# ¿Será un str con el type?\n",
    "print(type(cadenac) is str)"
   ]
  },
  {
   "cell_type": "code",
   "execution_count": null,
   "metadata": {},
   "outputs": [],
   "source": [
    "# Repeticion de cadena\n",
    "cadrep = \"Cadena\" * 3\n",
    "print(cadrep)\n",
    "print(type(cadrep))"
   ]
  },
  {
   "cell_type": "code",
   "execution_count": 23,
   "metadata": {},
   "outputs": [
    {
     "name": "stdout",
     "output_type": "stream",
     "text": [
      "Leonardo Caballero\n",
      "<class 'str'>\n",
      "Leonardo Caballero\n"
     ]
    }
   ],
   "source": [
    "# Concatenacion de cadena\n",
    "nombre = \"Leonardo\"\n",
    "apellido = \"Caballero\"\n",
    "nombre_completo = nombre + \" \" + apellido\n",
    "print (nombre_completo)\n",
    "print(type(nombre_completo))\n",
    "print(f\"{nombre} {apellido}\")"
   ]
  },
  {
   "cell_type": "code",
   "execution_count": 24,
   "metadata": {},
   "outputs": [
    {
     "name": "stdout",
     "output_type": "stream",
     "text": [
      "Tamano de cadena ' Leonardo Caballero ' es: 18\n"
     ]
    }
   ],
   "source": [
    "print(\"Tamano de cadena '\", nombre_completo, \"' es:\", len(nombre_completo))"
   ]
  },
  {
   "cell_type": "code",
   "execution_count": 29,
   "metadata": {},
   "outputs": [
    {
     "name": "stdout",
     "output_type": "stream",
     "text": [
      "r\n"
     ]
    }
   ],
   "source": [
    "# acceder a rango de la cadena\n",
    "print(nombre_completo[0:3])"
   ]
  },
  {
   "cell_type": "markdown",
   "metadata": {},
   "source": [
    "## Tipo de booleano"
   ]
  },
  {
   "cell_type": "code",
   "execution_count": null,
   "metadata": {},
   "outputs": [],
   "source": [
    "aT = True\n",
    "print(\"El valor es Verdadero:\", aT, \", el cual es de tipo\", type(aT), \"\\n\")"
   ]
  },
  {
   "cell_type": "code",
   "execution_count": null,
   "metadata": {},
   "outputs": [],
   "source": [
    "# Miremos como se ve con el type\n",
    "print(type(aT) is bool)"
   ]
  },
  {
   "cell_type": "code",
   "execution_count": null,
   "metadata": {},
   "outputs": [],
   "source": [
    "aF = False\n",
    "print(\"El valor es Falso:\", aF, \", el cual es de tipo\", type(aF))"
   ]
  },
  {
   "cell_type": "code",
   "execution_count": null,
   "metadata": {},
   "outputs": [],
   "source": [
    "# Operadores booleanos\n",
    "aAnd = True and False\n",
    "print(\"SI es Verdadero Y Falso, entonces es:\", aAnd, \", el cual es de tipo\", type(aAnd), \"\\n\")"
   ]
  },
  {
   "cell_type": "code",
   "execution_count": null,
   "metadata": {},
   "outputs": [],
   "source": [
    "# ¿Esto será booleano?\n",
    "print( type((3 < 1)) is bool )"
   ]
  },
  {
   "cell_type": "code",
   "execution_count": null,
   "metadata": {},
   "outputs": [],
   "source": [
    "aOr = True or False\n",
    "print(\"SI es Verdadero O Falso, entonces es:\", aOr, \", el cual es de tipo\", type(aOr), \"\\n\")"
   ]
  },
  {
   "cell_type": "code",
   "execution_count": null,
   "metadata": {},
   "outputs": [],
   "source": [
    "aNot = not True\n",
    "print(\"Si NO es Verdadero, entonces es:\", aNot, \", el cual es de tipo\", type(aNot), \"\\n\")"
   ]
  },
  {
   "cell_type": "markdown",
   "metadata": {},
   "source": [
    "## Tipos de conjuntos"
   ]
  },
  {
   "cell_type": "markdown",
   "metadata": {},
   "source": [
    "Un conjunto, es una colección no ordenada y sin elementos repetidos. \n",
    "Los usos básicos de éstos incluyen verificación de pertenencia y \n",
    "eliminación de entradas duplicadas."
   ]
  },
  {
   "cell_type": "code",
   "execution_count": null,
   "metadata": {},
   "outputs": [],
   "source": [
    "# crea un conjunto sin repetidos\n",
    "plato = ['pastel', 'pastas', 'papa', 'empanada', 'queso', 'queso']\n",
    "print(plato)\n",
    "print(type(plato))\n",
    "bebida = ['refresco', 'malta', 'jugo', 'cafe']\n",
    "print(bebida)\n",
    "print(type(bebida))"
   ]
  },
  {
   "cell_type": "code",
   "execution_count": null,
   "metadata": {},
   "outputs": [],
   "source": [
    "# ¿Será tipo list?\n",
    "print(type(plato) is list)"
   ]
  },
  {
   "cell_type": "code",
   "execution_count": null,
   "metadata": {},
   "outputs": [],
   "source": [
    "# establece un conjunto a una variable\n",
    "para_comer = set(plato)\n",
    "print(para_comer)\n",
    "print(type(para_comer))"
   ]
  },
  {
   "cell_type": "code",
   "execution_count": null,
   "metadata": {},
   "outputs": [],
   "source": [
    "# ¿Será tipo list?\n",
    "print(type(plato) is list)\n",
    "print(type(plato) is set)"
   ]
  },
  {
   "cell_type": "code",
   "execution_count": null,
   "metadata": {},
   "outputs": [],
   "source": [
    "para_tomar = set(bebida)\n",
    "print(para_tomar)\n",
    "print(type(para_tomar))"
   ]
  },
  {
   "cell_type": "code",
   "execution_count": null,
   "metadata": {},
   "outputs": [],
   "source": [
    "# Ejemplo practico de los condicionales\n",
    "hay_pastas = 'pastas' in para_comer\n",
    "hay_fresco = 'refresco' in para_tomar\n",
    "print(\"hay_pastas:\", hay_pastas)\n",
    "print(\"hay_fresco:\", hay_fresco)"
   ]
  },
  {
   "cell_type": "code",
   "execution_count": null,
   "metadata": {},
   "outputs": [],
   "source": [
    "# valida si un elemento esta en el conjunto\n",
    "print(\"¿Tienes pastas?: \", 'pastas' in para_comer)\n",
    "# valida si un elemento esta en el conjunto\n",
    "print(\"¿Tienes refresco?: \", 'refresco' in para_tomar)\n",
    "\n",
    "if (hay_pastas and hay_fresco):\n",
    "\tprint(\"Desayuno vergatario\")\n",
    "else:\n",
    "    print(\"Desayuno ligero\")"
   ]
  },
  {
   "cell_type": "markdown",
   "metadata": {},
   "source": [
    "## Tipos de listas"
   ]
  },
  {
   "cell_type": "markdown",
   "metadata": {},
   "source": [
    "La lista en Python son variables que almacenan arrays, internamente cada posicion puede ser un tipo de datos distinto."
   ]
  },
  {
   "cell_type": "code",
   "execution_count": null,
   "metadata": {},
   "outputs": [],
   "source": [
    "# Coleccion ordenada / arreglos o vectores\n",
    "l = [2, \"tres\", True, [\"uno\", 10]]\n",
    "print(l)"
   ]
  },
  {
   "cell_type": "code",
   "execution_count": null,
   "metadata": {},
   "outputs": [],
   "source": [
    "# ¿Cuál es el tipo de dato?\n",
    "print(type(l))\n",
    "print(type(l) is list)"
   ]
  },
  {
   "cell_type": "code",
   "execution_count": null,
   "metadata": {},
   "outputs": [],
   "source": [
    "# Accesar a un elemento especifico\n",
    "l2 = l[1]\n",
    "print(l2)"
   ]
  },
  {
   "cell_type": "code",
   "execution_count": null,
   "metadata": {},
   "outputs": [],
   "source": [
    "# Accesar a un elemento a una lista anidada\n",
    "l3 = l[3][0]\n",
    "print(l3)"
   ]
  },
  {
   "cell_type": "code",
   "execution_count": null,
   "metadata": {},
   "outputs": [],
   "source": [
    "\"[2, 'tres', True, ['uno', 10]]\"\n",
    "# establecer nuevo valor de un elemento de lista\n",
    "l[1] = 4\n",
    "print(l)\n",
    "l[1] = \"tres\"\n",
    "print(l)"
   ]
  },
  {
   "cell_type": "code",
   "execution_count": null,
   "metadata": {},
   "outputs": [],
   "source": [
    "# Obtener un rango de elemento especifico\n",
    "l3 = l[1:3]\n",
    "print(l3)"
   ]
  },
  {
   "cell_type": "code",
   "execution_count": null,
   "metadata": {},
   "outputs": [],
   "source": [
    "n_l = [0, 1, 2, 3, 4, 5, 6]\n",
    "print(n_l[3:5:2])"
   ]
  },
  {
   "cell_type": "code",
   "execution_count": null,
   "metadata": {},
   "outputs": [],
   "source": [
    "# Obtener un rango con saltos de elementos especificos\n",
    "l4 = l[3][1:3:20]\n",
    "print(l4)"
   ]
  },
  {
   "cell_type": "code",
   "execution_count": null,
   "metadata": {},
   "outputs": [],
   "source": [
    "l5 = l[1::2]\n",
    "print(l5)"
   ]
  },
  {
   "cell_type": "markdown",
   "metadata": {},
   "source": [
    "## Tipos de tuplas"
   ]
  },
  {
   "cell_type": "markdown",
   "metadata": {},
   "source": [
    "Una tupla es una lista inmutable. Una tupla no puede modificarse de ningún modo después de su creación."
   ]
  },
  {
   "cell_type": "code",
   "execution_count": null,
   "metadata": {},
   "outputs": [],
   "source": [
    "# Ejemplo simple de tupla\n",
    "tupla = 12345, 54321, 'hola!'\n",
    "print(tupla)\n",
    "print(type(tupla))"
   ]
  },
  {
   "cell_type": "code",
   "execution_count": null,
   "metadata": {},
   "outputs": [],
   "source": [
    "# Ejemplo de tuplas anidadas\n",
    "otra = tupla, (1, 2, 3, 4, 5)\n",
    "print(otra)"
   ]
  },
  {
   "cell_type": "code",
   "execution_count": null,
   "metadata": {},
   "outputs": [],
   "source": [
    "# operación asinacion de valores de una tupla en variables\n",
    "x, y, z = tupla\n",
    "print(x, y, z)"
   ]
  },
  {
   "cell_type": "code",
   "execution_count": null,
   "metadata": {},
   "outputs": [],
   "source": [
    "print (\"\\nDefiniendo conexion a BD MySql\")\n",
    "print (\"==============================\\n\")\n",
    "\n",
    "conexion_bd = \"127.0.0.1\",\"root\",\"123456\",\"nomina\",\n",
    "print (\"Conexion tipica:\", conexion_bd)\n",
    "print (type(conexion_bd))\n",
    "conexion_completa = conexion_bd, \"3307\",\"10\",\n",
    "print (\"\\nConexion con parametros adicionales:\", conexion_completa)\n",
    "print (type(conexion_completa))\n",
    "\n",
    "print (\"\\n\")\n",
    "\n",
    "print (\"Acceder a la IP de la bd:\",  conexion_completa[0][0])\n",
    "print (\"Acceder al usuario de la bd:\",  conexion_completa[0][1])\n",
    "print (\"Acceder a la clave de la bd:\",  conexion_completa[0][2])\n",
    "print (\"Acceder al nombre de la bd:\",  conexion_completa[0][3])\n",
    "print (\"Acceder al puerto de conexion:\", conexion_completa[1])\n",
    "print (\"Acceder al tiempo de espera de conexion:\", conexion_completa[2])\n",
    "\n",
    "print (\"\\nMas informacion sobre Mysql y Python http://mysql-python.sourceforge.net/MySQLdb.html\")"
   ]
  },
  {
   "cell_type": "markdown",
   "metadata": {
    "collapsed": true
   },
   "source": [
    "## Tipos de diccionarios"
   ]
  },
  {
   "cell_type": "markdown",
   "metadata": {},
   "source": [
    "El diccionario define una relación uno a uno entre claves y valores."
   ]
  },
  {
   "cell_type": "code",
   "execution_count": null,
   "metadata": {},
   "outputs": [],
   "source": [
    "datos_basicos = {\n",
    "    \"apellidos\":\"Caballero Garcia\",\n",
    "    \"cedula\":\"14522590\",\n",
    "    \"fecha_nacimiento\":\"03121980\",\n",
    "    \"lugar_nacimiento\":\"Maracaibo, Zulia, Venezuela\",\n",
    "    \"nacionalidad\":\"Venezolana\",\n",
    "    \"estado_civil\":\"Complicado\",\n",
    "    \"nombres\":\"Leonardo Jose\",\n",
    "}"
   ]
  },
  {
   "cell_type": "code",
   "execution_count": null,
   "metadata": {},
   "outputs": [],
   "source": [
    "print(\"Impresión normal del diccionario.\")\n",
    "print(datos_basicos['nombres'])"
   ]
  },
  {
   "cell_type": "code",
   "execution_count": null,
   "metadata": {},
   "outputs": [],
   "source": [
    "print(\"Claves del diccionario:\")\n",
    "print(datos_basicos.keys())"
   ]
  },
  {
   "cell_type": "code",
   "execution_count": null,
   "metadata": {},
   "outputs": [],
   "source": [
    "print(\"Valores del diccionario:\")\n",
    "print(datos_basicos.values())"
   ]
  },
  {
   "cell_type": "code",
   "execution_count": null,
   "metadata": {},
   "outputs": [],
   "source": [
    "print(\"Elementos del diccionario:\")\n",
    "print(datos_basicos.items())"
   ]
  },
  {
   "cell_type": "code",
   "execution_count": null,
   "metadata": {},
   "outputs": [],
   "source": [
    "# Ejemplo practico de los diccionarios\n",
    "print (\"\\nInscripcion de Curso\")\n",
    "print (\"====================\")\n",
    "\n",
    "print (\"\\nDatos de participante\")\n",
    "print (\"---------------------\")\n",
    "\n",
    "print (\"Cedula de identidad:\", datos_basicos['cedula'])\n",
    "print (\"Nombre completo: \" + datos_basicos['nombres'] + \" \" + datos_basicos['apellidos'])"
   ]
  },
  {
   "cell_type": "markdown",
   "metadata": {},
   "source": [
    "## Operadores aritméticos"
   ]
  },
  {
   "cell_type": "code",
   "execution_count": null,
   "metadata": {},
   "outputs": [],
   "source": [
    "\"\"\"\n",
    "    Operadores numericos\n",
    "\"\"\"\n",
    "\n",
    "a = 26\n",
    "b = 11.3\n",
    "c = 5\n",
    "d = 3.5"
   ]
  },
  {
   "cell_type": "code",
   "execution_count": null,
   "metadata": {},
   "outputs": [],
   "source": [
    "# Suma, Añade valores a cada lado del operador\n",
    "print(a + b)\n",
    "print(type(a + b))"
   ]
  },
  {
   "cell_type": "code",
   "execution_count": null,
   "metadata": {},
   "outputs": [],
   "source": [
    "# Resta, Resta el operando de la derecha del operador del lado izquierdo\n",
    "print(c - a)\n",
    "print(type(c - a))"
   ]
  },
  {
   "cell_type": "code",
   "execution_count": null,
   "metadata": {},
   "outputs": [],
   "source": [
    "# Multiplicacion, Multiplica los valores de ambos lados del operador\n",
    "print(d * c)"
   ]
  },
  {
   "cell_type": "code",
   "execution_count": null,
   "metadata": {},
   "outputs": [],
   "source": [
    "# Exponente, Realiza el cálculo exponencial (potencia) de los operadores\n",
    "print(float(c) ** 2)"
   ]
  },
  {
   "cell_type": "code",
   "execution_count": null,
   "metadata": {},
   "outputs": [],
   "source": [
    "# Division python 2\n",
    "print(float(c) / a)"
   ]
  },
  {
   "cell_type": "code",
   "execution_count": null,
   "metadata": {},
   "outputs": [],
   "source": [
    "# Division python 3\n",
    "print(c / a)"
   ]
  },
  {
   "cell_type": "code",
   "execution_count": null,
   "metadata": {},
   "outputs": [],
   "source": [
    "# Division entera python 3\n",
    "print(c // a)"
   ]
  },
  {
   "cell_type": "code",
   "execution_count": null,
   "metadata": {},
   "outputs": [],
   "source": [
    "# Modulo, Divide el operando de la izquierda por el \n",
    "# operador del lado derecho y devuelve el resto.\n",
    "print(7 % 5)"
   ]
  },
  {
   "cell_type": "markdown",
   "metadata": {},
   "source": [
    "## Operadores relacionales"
   ]
  },
  {
   "cell_type": "markdown",
   "metadata": {},
   "source": [
    "Los valores booleanos son además el resultado de expresiones que utilizan operadores relacionales (comparaciones entre valores):"
   ]
  },
  {
   "cell_type": "code",
   "execution_count": null,
   "metadata": {},
   "outputs": [],
   "source": [
    "a = 5\n",
    "b = 5\n",
    "a1 = 7\n",
    "b1 = 3\n",
    "c1 = 3\n",
    "\n",
    "cadena1 = 'Hola'\n",
    "cadena2 = 'Adios'\n",
    "\n",
    "lista1 = [1, 'Lista Python', 23]\n",
    "lista2 = [11, 'Lista Python', 23]"
   ]
  },
  {
   "cell_type": "code",
   "execution_count": null,
   "metadata": {},
   "outputs": [],
   "source": [
    "# igual\n",
    "c = a == b\n",
    "print(c)"
   ]
  },
  {
   "cell_type": "code",
   "execution_count": null,
   "metadata": {},
   "outputs": [],
   "source": [
    "cadenas = cadena1 == cadena2\n",
    "print(cadenas)"
   ]
  },
  {
   "cell_type": "code",
   "execution_count": null,
   "metadata": {},
   "outputs": [],
   "source": [
    "listas = lista1 == lista2\n",
    "print(listas)"
   ]
  },
  {
   "cell_type": "code",
   "execution_count": null,
   "metadata": {},
   "outputs": [],
   "source": [
    "# diferente\n",
    "d = a1 != lista1\n",
    "print(d)"
   ]
  },
  {
   "cell_type": "code",
   "execution_count": null,
   "metadata": {},
   "outputs": [],
   "source": [
    "cadena0 = cadena1 != cadena2\n",
    "print(cadena0)"
   ]
  },
  {
   "cell_type": "code",
   "execution_count": null,
   "metadata": {},
   "outputs": [],
   "source": [
    "# mayor que\n",
    "e = a1 > b1\n",
    "print(e)"
   ]
  },
  {
   "cell_type": "code",
   "execution_count": null,
   "metadata": {},
   "outputs": [],
   "source": [
    "# menor que\n",
    "f = b1 < a1\n",
    "print(f)"
   ]
  },
  {
   "cell_type": "code",
   "execution_count": null,
   "metadata": {},
   "outputs": [],
   "source": [
    "# mayor o igual que\n",
    "g = b1 >= c1\n",
    "print(g)"
   ]
  },
  {
   "cell_type": "code",
   "execution_count": null,
   "metadata": {},
   "outputs": [],
   "source": [
    "# menor o igual que\n",
    "h = b1 <= c1\n",
    "print(h)"
   ]
  },
  {
   "cell_type": "code",
   "execution_count": null,
   "metadata": {},
   "outputs": [],
   "source": []
  }
 ],
 "metadata": {
  "kernelspec": {
   "display_name": "Python 3",
   "language": "python",
   "name": "python3"
  },
  "language_info": {
   "codemirror_mode": {
    "name": "ipython",
    "version": 3
   },
   "file_extension": ".py",
   "mimetype": "text/x-python",
   "name": "python",
   "nbconvert_exporter": "python",
   "pygments_lexer": "ipython3",
   "version": "3.7.3"
  }
 },
 "nbformat": 4,
 "nbformat_minor": 2
}
