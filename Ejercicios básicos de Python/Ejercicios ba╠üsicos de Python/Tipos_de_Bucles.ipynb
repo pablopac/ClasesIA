{
 "cells": [
  {
   "cell_type": "markdown",
   "metadata": {},
   "source": [
    "# Tipos de Bucles"
   ]
  },
  {
   "cell_type": "markdown",
   "metadata": {},
   "source": [
    "## Bucles WHILE "
   ]
  },
  {
   "cell_type": "markdown",
   "metadata": {},
   "source": [
    "En Python tenemos una palabra reservada llamada “while” que nos permite ejecutar ciclos, o bien secuencias periódicas que nos permiten ejecutar código múltiples veces.\n",
    "\n",
    "El ciclo while nos permite realizar múltiples iteraciones basándonos en el resultado de una expresión lógica que puede tener como resultado un valor verdadero o falso (true o false). (Ejercicios tomados de http://entrenamiento-python-basico.readthedocs.io/es/latest/leccion4/bucle_while.html)"
   ]
  },
  {
   "cell_type": "markdown",
   "metadata": {},
   "source": [
    "### Bucles ‘while’ controlado por Conteo"
   ]
  },
  {
   "cell_type": "code",
   "execution_count": null,
   "metadata": {},
   "outputs": [],
   "source": [
    "print(\"\\nWhile controlado con Conteo\")\n",
    "print(\"===========================\\n\")\n",
    "\n",
    "print(\"Un ejemplo es un sumador numérico hasta 10, \\ncomo se muestra a continuación:\\n\")\n",
    "\n",
    "suma = 0\n",
    "numero = 1\n",
    "\n",
    "while numero <= 10:\n",
    "    suma = numero + suma\n",
    "    numero = numero + 1\n",
    "\n",
    "print(\"La suma es \" + str(suma))"
   ]
  },
  {
   "cell_type": "markdown",
   "metadata": {},
   "source": [
    "### Bucles ‘while’ controlado por Evento"
   ]
  },
  {
   "cell_type": "code",
   "execution_count": null,
   "metadata": {},
   "outputs": [],
   "source": [
    "print(\"\\nWhile controlado con Evento\")\n",
    "print(\"===========================\\n\")\n",
    "\n",
    "print(\"Un ejemplo es calcular el promedio de grado, \\ncomo se muestra a continuación:\\n\")\n",
    "\n",
    "promedio = 0.0\n",
    "total = 0\n",
    "contar = 0\n",
    "\n",
    "print(\"Introduzca valor numerico de un grado (-1 para salir): \")\n",
    "try:\n",
    "    grado = float(input())\n",
    "except ValueError:\n",
    "    grado = -1\n",
    "\n",
    "while grado != -1:\n",
    "    total = total + grado\n",
    "    contar = contar + 1\n",
    "    print(\"Introduzca valor numerico de un grado (-1 para salir): \")\n",
    "    try:\n",
    "        grado = float(input())\n",
    "    except ValueError:\n",
    "        grado = -1\n",
    "try:\n",
    "    promedio = total / contar\n",
    "except ZeroDivisionError:\n",
    "    promedio = \"No es posible\"\n",
    "print(\"Promedio de grado: \" + str(promedio))"
   ]
  },
  {
   "cell_type": "markdown",
   "metadata": {},
   "source": [
    "### Sentencias utilitarias"
   ]
  },
  {
   "cell_type": "markdown",
   "metadata": {},
   "source": [
    "#### Usando la sentencia ‘continue’"
   ]
  },
  {
   "cell_type": "code",
   "execution_count": null,
   "metadata": {},
   "outputs": [],
   "source": [
    "print (\"\\nWhile con sentencia continue\")\n",
    "print (\"============================\\n\")\n",
    "\n",
    "variable = 10\n",
    "while variable > 0:              \n",
    "    variable = variable -1\n",
    "    if variable == 5:\n",
    "        continue\n",
    "    print ('Actual valor de variable:', variable)\n",
    "else:\n",
    "    print(\"terminé!!!\")"
   ]
  },
  {
   "cell_type": "markdown",
   "metadata": {},
   "source": [
    "#### Usando la sentencia ‘break’"
   ]
  },
  {
   "cell_type": "code",
   "execution_count": null,
   "metadata": {},
   "outputs": [],
   "source": [
    "print (\"\\nWhile con sentencia continue\")\n",
    "print (\"============================\\n\")\n",
    "\n",
    "variable = 10\n",
    "while variable > 0:              \n",
    "    variable = variable -1\n",
    "    if variable == 5:\n",
    "        break\n",
    "    print ('Actual valor de variable:', variable)\n",
    "else:\n",
    "    print(\"Termino?\")"
   ]
  },
  {
   "cell_type": "markdown",
   "metadata": {},
   "source": [
    "## Bucles FOR"
   ]
  },
  {
   "cell_type": "markdown",
   "metadata": {},
   "source": [
    "La sentencia for en Python difiere un poco de lo que uno puede estar acostumbrado en lenguajes como C o Pascal. En lugar de siempre iterar sobre una progresión aritmética de números (como en Pascal) o darle al usuario la posibilidad de definir tanto el paso de la iteración como la condición de fin (como en C), la sentencia for de Python itera sobre los ítems de cualquier secuencia (una lista o una cadena de texto), en el orden que aparecen en la secuencia."
   ]
  },
  {
   "cell_type": "markdown",
   "metadata": {},
   "source": [
    "### Tipos de Bucles ‘for’"
   ]
  },
  {
   "cell_type": "markdown",
   "metadata": {},
   "source": [
    "#### Bucles ‘for’ con Listas"
   ]
  },
  {
   "cell_type": "code",
   "execution_count": null,
   "metadata": {},
   "outputs": [],
   "source": [
    "print(\"\\nItera una lista de animales\")\n",
    "print(\"===========================\\n\")\n",
    "\n",
    "# Midiendo cadenas de texto\n",
    "lista_animales = ['gato', 'ventana', 'defenestrado']\n",
    "\n",
    "for animal in lista_animales:\n",
    "    break\n",
    "    print(\"El animal es:\", animal, \", la cantidad de letras de la posicion son:\", len(animal))\n",
    "else:\n",
    "    print(\"Niñas no hablen tanto!!!\")"
   ]
  },
  {
   "cell_type": "code",
   "execution_count": null,
   "metadata": {},
   "outputs": [],
   "source": [
    "# Si se necesita iterar sobre una secuencia de números. \n",
    "# Genera una lista conteniendo progresiones aritméticos\n",
    "print(\"\\nRango de 15 numeros:\", range(15))\n",
    "\n",
    "print(\"\\nItera una cadena con rango dinamico\")\n",
    "print(\"===================================\\n\")\n",
    "\n",
    "frases = ['Mary', 'tenia', 'un', 'corderito']\n",
    "for palabra in range(0, len(frases), 8):\n",
    "    print(palabra)\n",
    "    print(\"La palabra es:\", frases[palabra], \"su posicion en la frase es:\", palabra)"
   ]
  },
  {
   "cell_type": "markdown",
   "metadata": {},
   "source": [
    "#### Bucles ‘for’ con Tuplas"
   ]
  },
  {
   "cell_type": "code",
   "execution_count": null,
   "metadata": {},
   "outputs": [],
   "source": [
    "print (\"\\nItera una tupla de parametros\")\n",
    "print (\"=============================\\n\")\n",
    "\n",
    "conexion_bd = \"127.0.0.1\",\"root\",\"123456\",\"nomina\"\n",
    "for parametro in conexion_bd:\n",
    "    print(parametro)"
   ]
  },
  {
   "cell_type": "markdown",
   "metadata": {},
   "source": [
    "#### Bucles ‘for’ con Diccionarios"
   ]
  },
  {
   "cell_type": "code",
   "execution_count": null,
   "metadata": {},
   "outputs": [],
   "source": [
    "print(\"\\nItera un diccionario datos basicos\")\n",
    "print(\"==================================\\n\")\n",
    "\n",
    "datos_basicos = {\n",
    "    \"nombres\":\"Leonardo Jose\",\n",
    "    \"apellidos\":\"Caballero Garcia\",\n",
    "    \"cedula\":\"14522590\",\n",
    "    \"fecha_nacimiento\":\"03121980\",\n",
    "    \"lugar_nacimiento\":\"Maracaibo, Zulia, Venezuela\",\n",
    "    \"nacionalidad\":\"Venezolana\",\n",
    "    \"estado_civil\":\"Complicado\"\n",
    "}\n",
    "\n",
    "dato = datos_basicos.keys()\n",
    "valor = datos_basicos.values()\n",
    "cantidad_datos = datos_basicos.items()\n",
    "\n",
    "for k in datos_basicos.keys():\n",
    "    print(k)\n",
    "print(\"\")\n",
    "for v in datos_basicos.values():\n",
    "    print(v)\n",
    "print(\"\")\n",
    "for dato, valor in datos_basicos.items():\n",
    "    print(dato + \": \" + valor)"
   ]
  },
  {
   "cell_type": "code",
   "execution_count": null,
   "metadata": {},
   "outputs": [],
   "source": [
    "d = {\n",
    "    0: 1,\n",
    "    1: 1,\n",
    "    2: 2,\n",
    "    3: 3,\n",
    "    4: 5,\n",
    "    6: 8,\n",
    "    7: 13,\n",
    "    8: 21,\n",
    "    9: 34,\n",
    "    10: 55\n",
    "}\n",
    "\n",
    "print(d.items())"
   ]
  },
  {
   "cell_type": "code",
   "execution_count": null,
   "metadata": {},
   "outputs": [],
   "source": []
  },
  {
   "cell_type": "code",
   "execution_count": null,
   "metadata": {},
   "outputs": [],
   "source": []
  }
 ],
 "metadata": {
  "kernelspec": {
   "display_name": "Python 3",
   "language": "python",
   "name": "python3"
  },
  "language_info": {
   "codemirror_mode": {
    "name": "ipython",
    "version": 3
   },
   "file_extension": ".py",
   "mimetype": "text/x-python",
   "name": "python",
   "nbconvert_exporter": "python",
   "pygments_lexer": "ipython3",
   "version": "3.7.4"
  }
 },
 "nbformat": 4,
 "nbformat_minor": 2
}
