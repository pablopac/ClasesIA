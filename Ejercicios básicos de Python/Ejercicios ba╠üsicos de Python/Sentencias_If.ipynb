{
 "cells": [
  {
   "cell_type": "markdown",
   "metadata": {},
   "source": [
    "# Sentencias IF"
   ]
  },
  {
   "cell_type": "markdown",
   "metadata": {},
   "source": [
    "La sentencia If se usa para tomar decisiones, este evalua basicamente una operación logica, es decir una expresión que de como resultado verdadero o false (True o False), y ejecuta la pieza de codigo siguiente siempre y cuando el resultado sea verdadero. (Ejercicios tomados de: http://entrenamiento-python-basico.readthedocs.io/es/latest/leccion4/condicional_if.html)"
   ]
  },
  {
   "cell_type": "markdown",
   "metadata": {},
   "source": [
    "## Ejemplo de Sentencias IF"
   ]
  },
  {
   "cell_type": "code",
   "execution_count": 1,
   "metadata": {},
   "outputs": [
    {
     "name": "stdout",
     "output_type": "stream",
     "text": [
      "Ingresa un entero, por favor: 2\n",
      "Mayor que uno\n"
     ]
    }
   ],
   "source": [
    "\"\"\"\n",
    "    Sentencias conficional if\n",
    "\"\"\"\n",
    "\n",
    "numero = int(input(\"Ingresa un entero, por favor: \"))\n",
    "if numero < 0:\n",
    "    numero = 0\n",
    "    print('Numero negativo cambiado a cero')\n",
    "elif numero == 0:\n",
    "    print('Numero es Cero')\n",
    "elif numero == 1:\n",
    "    print('Numero Simple')\n",
    "else:\n",
    "    print('Mayor que uno')"
   ]
  },
  {
   "cell_type": "markdown",
   "metadata": {},
   "source": [
    "## Operadores de Asignaciones"
   ]
  },
  {
   "cell_type": "markdown",
   "metadata": {},
   "source": [
    "Los operadores de asignación se utilizan para basicamente asignar un valor a una variable, así como cuando utilizamos el “=”.\n",
    "\n",
    "Los operadores de asignación son =,+=,-=,\\*=,/=,\\*\\*=,//=, a continuación algunos ejemplos.\n",
    "\n",
    "= , igual a, es el mas simple de todos y asigna a la variable del lado izquierdo cualquier variable o resultado del lado derecho.\n",
    "\n",
    "+= , suma a la variable del lado izquierdo el valor del lado derecho.\n",
    "ej.  si  “a” es igual a 5 y a+=10, entonces “a” sera igual a 15\n",
    "\n",
    "-= , resta a la variable del lado izquierdo el valor del lado derecho.\n",
    "ej.  si  “a” es igual a 5 y a-=10, entonces “a” sera igual a -5\n",
    "\n",
    "\\*=, multiplica  a la variable del lado izquierdo el valor del lado derecho.\n",
    "ej.  si  “a” es igual a 5 y a*=10, entonces “a” sera igual a 50"
   ]
  },
  {
   "cell_type": "markdown",
   "metadata": {},
   "source": [
    "## Ejemplo de Operadores de Asignaciones"
   ]
  },
  {
   "cell_type": "code",
   "execution_count": null,
   "metadata": {},
   "outputs": [],
   "source": [
    "\"\"\"\n",
    "    Operadores de asignaciones\n",
    "\"\"\"\n",
    "\n",
    "a = 21\n",
    "b = 10\n",
    "c = 0"
   ]
  },
  {
   "cell_type": "code",
   "execution_count": null,
   "metadata": {},
   "outputs": [],
   "source": [
    "c = a + b\n",
    "print(\"Operador + | El valor de la variable 'c' es \", c)"
   ]
  },
  {
   "cell_type": "code",
   "execution_count": null,
   "metadata": {},
   "outputs": [],
   "source": [
    "c += a    # c = c + a\n",
    "print(\"Operador += | El valor de la variable 'c' es \", c )"
   ]
  },
  {
   "cell_type": "code",
   "execution_count": null,
   "metadata": {},
   "outputs": [],
   "source": [
    "c *= a\n",
    "print(\"Operador *= | El valor de la variable 'c' es \", c) "
   ]
  },
  {
   "cell_type": "code",
   "execution_count": null,
   "metadata": {},
   "outputs": [],
   "source": [
    "c /= a \n",
    "print(\"Operador /= | El valor de la variable 'c' es \", c )"
   ]
  },
  {
   "cell_type": "code",
   "execution_count": null,
   "metadata": {},
   "outputs": [],
   "source": [
    "c = 2\n",
    "c %= a\n",
    "print(\"Operador %= | El valor de la variable 'c' es \", c)"
   ]
  },
  {
   "cell_type": "code",
   "execution_count": null,
   "metadata": {
    "scrolled": false
   },
   "outputs": [],
   "source": [
    "c **= a\n",
    "print(len(str(c)))\n",
    "print(\"Operador **= | El valor de la variable 'c' es \", c)"
   ]
  },
  {
   "cell_type": "code",
   "execution_count": null,
   "metadata": {},
   "outputs": [],
   "source": [
    "c //= a\n",
    "print(\"Operador //= | El valor de la variable 'c' es \", c)"
   ]
  },
  {
   "cell_type": "markdown",
   "metadata": {},
   "source": [
    "## Ejemplo Operadores de Comparación"
   ]
  },
  {
   "cell_type": "code",
   "execution_count": null,
   "metadata": {},
   "outputs": [],
   "source": [
    "a = 21\n",
    "b = 10\n",
    "\n",
    "print(\"el valor de la variable 'a' es:\", a)\n",
    "print(\"el valor de la variable 'b' es:\", b)"
   ]
  },
  {
   "cell_type": "code",
   "execution_count": null,
   "metadata": {},
   "outputs": [],
   "source": [
    "if ( a == b ):\n",
    "    print(\"Comparacion == | a es igual a b\")\n",
    "else:\n",
    "    print(\"Comparacion == | a no es igual a b\")"
   ]
  },
  {
   "cell_type": "code",
   "execution_count": null,
   "metadata": {},
   "outputs": [],
   "source": [
    "if ( a != b ):\n",
    "    print(\"Comparacion != | a no es igual a b\")\n",
    "else:\n",
    "    print(\"Comparacion != | a es igual a b\")"
   ]
  },
  {
   "cell_type": "code",
   "execution_count": null,
   "metadata": {},
   "outputs": [],
   "source": [
    "if ( a <> b ):\n",
    "    print(\"Comparacion <> | a no es igual a b\")\n",
    "else:\n",
    "    print(\"Comparacion <> | a es igual a b\")\n",
    "    \n",
    "#El error es porque solo sirve para Python 2"
   ]
  },
  {
   "cell_type": "code",
   "execution_count": null,
   "metadata": {},
   "outputs": [],
   "source": [
    "if ( a < b ):\n",
    "    print(\"Comparacion < | a es menor que b\" )\n",
    "else:\n",
    "    print(\"Comparacion < | a no es menor que b\")"
   ]
  },
  {
   "cell_type": "code",
   "execution_count": null,
   "metadata": {},
   "outputs": [],
   "source": [
    "if ( a > b ):\n",
    "    print(\"Comparacion > | a es mayor que b\")\n",
    "else:\n",
    "    print(\"Comparacion > | a no es mayor que b\")"
   ]
  },
  {
   "cell_type": "code",
   "execution_count": null,
   "metadata": {},
   "outputs": [],
   "source": [
    "c = 5;\n",
    "d = 20;\n",
    "\n",
    "print(\"el valor de la variable 'c' es:\", c)\n",
    "print(\"el valor de la variable 'd' es:\", d)"
   ]
  },
  {
   "cell_type": "code",
   "execution_count": null,
   "metadata": {},
   "outputs": [],
   "source": [
    "if ( c <= d ):\n",
    "    print(\"Comparacion <= | la variable 'c' es menor o igual a la variable 'd'\")\n",
    "else:\n",
    "    print(\"Comparacion <= | la variable 'c' es ni menor de ni igual a la variable 'd'\")\n"
   ]
  },
  {
   "cell_type": "code",
   "execution_count": null,
   "metadata": {},
   "outputs": [],
   "source": [
    "if ( d >= c ):\n",
    "    print(\"Comparacion >= | la variable 'd' es o bien mayor que o igual a la variable 'c'\")\n",
    "else:\n",
    "    print(\"Comparacion >= | la variable 'd' es ni mayor que ni igual a la variable 'c'\")"
   ]
  },
  {
   "cell_type": "markdown",
   "metadata": {},
   "source": [
    "## Operadores de Lógicos"
   ]
  },
  {
   "cell_type": "markdown",
   "metadata": {},
   "source": [
    "Estos son los distintos tipos de operadores con los que podemos trabajar con valores booleanos, los llamados operadores lógicos o condicionales:  \n",
    "* and\n",
    "* or\n",
    "* not"
   ]
  },
  {
   "cell_type": "code",
   "execution_count": null,
   "metadata": {},
   "outputs": [],
   "source": [
    "a = 10\n",
    "b = 20\n",
    "\n",
    "print(\"el valor de la variable 'a' es:\", a)\n",
    "print(\"el valor de la variable 'b' es:\", b)"
   ]
  },
  {
   "cell_type": "code",
   "execution_count": null,
   "metadata": {},
   "outputs": [],
   "source": [
    "if ( a and b ):\n",
    "    print(\"Operador and | a y b son VERDADERO\")\n",
    "else:\n",
    "    print(\"Operador and | O bien la variable 'a' no es VERDADERO o la variable 'b' no es VERDADERO\")"
   ]
  },
  {
   "cell_type": "code",
   "execution_count": null,
   "metadata": {},
   "outputs": [],
   "source": [
    "if ( a or b ):\n",
    "    print(\"Operador or | O bien la variable 'a' es VERDADERA o la variable 'b' es VERDADERA o ambas variables son VERDADERA\")\n",
    "else:\n",
    "    print(\"Operador or | Ni la variable 'a' es VERDADERA ni la variable 'b' es VERDADERA\")\n"
   ]
  },
  {
   "cell_type": "code",
   "execution_count": null,
   "metadata": {},
   "outputs": [],
   "source": [
    "if not( a and b ):\n",
    "    print(\"Operador not | Ni la variable 'a' NO es VERDADERA o la variable 'b' NO es VERDADERA\")\n",
    "else:\n",
    "    print(\"Operador not | las variables 'a' y 'b' son VERDADERAS\")"
   ]
  },
  {
   "cell_type": "code",
   "execution_count": null,
   "metadata": {},
   "outputs": [],
   "source": []
  }
 ],
 "metadata": {
  "kernelspec": {
   "display_name": "Python 3",
   "language": "python",
   "name": "python3"
  },
  "language_info": {
   "codemirror_mode": {
    "name": "ipython",
    "version": 3
   },
   "file_extension": ".py",
   "mimetype": "text/x-python",
   "name": "python",
   "nbconvert_exporter": "python",
   "pygments_lexer": "ipython3",
   "version": "3.7.4"
  }
 },
 "nbformat": 4,
 "nbformat_minor": 2
}
